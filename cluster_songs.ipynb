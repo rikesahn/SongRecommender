{
 "cells": [
  {
   "cell_type": "markdown",
   "id": "4481e3e1",
   "metadata": {},
   "source": [
    "import libraries"
   ]
  },
  {
   "cell_type": "code",
   "execution_count": null,
   "id": "9f7f0bf8",
   "metadata": {},
   "outputs": [],
   "source": [
    "import numpy as np\n",
    "import pandas as pd\n",
    "import pickle\n",
    "from sklearn import datasets # sklearn comes with some toy datasets to practise\n",
    "from sklearn.preprocessing import StandardScaler\n",
    "from sklearn.cluster import KMeans\n",
    "from matplotlib import pyplot\n",
    "from sklearn.metrics import silhouette_score"
   ]
  },
  {
   "cell_type": "code",
   "execution_count": null,
   "id": "5108e46e",
   "metadata": {},
   "outputs": [],
   "source": [
    "#load the dataset\n",
    "\n",
    "data = pd.read_csv('song_data.csv')"
   ]
  },
  {
   "cell_type": "code",
   "execution_count": null,
   "id": "0168f601",
   "metadata": {},
   "outputs": [],
   "source": [
    "data.dtypes"
   ]
  },
  {
   "cell_type": "code",
   "execution_count": null,
   "id": "d5b51876",
   "metadata": {},
   "outputs": [],
   "source": [
    "#drop all columns containing strings, and first column(index)\n",
    "X = data.select_dtypes(exclude=['object']).drop(['Unnamed: 0'], axis=1)\n",
    "\n",
    "\n",
    "X"
   ]
  },
  {
   "cell_type": "code",
   "execution_count": null,
   "id": "424e88dd",
   "metadata": {},
   "outputs": [],
   "source": [
    "X.describe()"
   ]
  },
  {
   "cell_type": "markdown",
   "id": "5fbfd8f7",
   "metadata": {},
   "source": [
    "## Scaling features"
   ]
  },
  {
   "cell_type": "markdown",
   "id": "0ef77cd1",
   "metadata": {},
   "source": [
    "Fit the standard scaler to scale the audio features of each song using spotify collected data set.\n",
    "\n",
    "scale the audio features of your songs. this should create an object called scaler  (store it, you’re gonna need it in the future) and an array with scaled features, let’s call it X_scaled\n",
    "\n"
   ]
  },
  {
   "cell_type": "code",
   "execution_count": null,
   "id": "3e37800c",
   "metadata": {},
   "outputs": [],
   "source": [
    "scaler = StandardScaler()\n",
    "scaler.fit(X) #Compute the mean and std to be used for later scaling.\n",
    "print(scaler.mean_)"
   ]
  },
  {
   "cell_type": "code",
   "execution_count": null,
   "id": "b4b61534",
   "metadata": {},
   "outputs": [],
   "source": [
    "X.columns"
   ]
  },
  {
   "cell_type": "code",
   "execution_count": null,
   "id": "b96f7d08",
   "metadata": {},
   "outputs": [],
   "source": [
    "X_scaled = scaler.transform(X) #Perform standardization by centering and scaling, output: numpy array\n",
    "X_scaled_df = pd.DataFrame(X_scaled, columns = X.columns) #build dataframe with scaled data and column titles of X\n",
    "display(X.head())\n",
    "\n",
    "display(X_scaled_df.head())"
   ]
  },
  {
   "cell_type": "code",
   "execution_count": null,
   "id": "3ff76034",
   "metadata": {},
   "outputs": [],
   "source": [
    "X_scaled_df.describe()"
   ]
  },
  {
   "cell_type": "markdown",
   "id": "cfb2a424",
   "metadata": {},
   "source": [
    "---- Save the freshly trained standard scaler with pickle"
   ]
  },
  {
   "cell_type": "code",
   "execution_count": null,
   "id": "c197883d",
   "metadata": {},
   "outputs": [],
   "source": []
  },
  {
   "cell_type": "markdown",
   "id": "91109b8e",
   "metadata": {},
   "source": [
    "initialize a KMeans model with kmeans = KMeans(random_state=1234)(don’t waste time on parameters /number of clusters for now - use defaults!)"
   ]
  },
  {
   "cell_type": "code",
   "execution_count": null,
   "id": "9d1290d9",
   "metadata": {},
   "outputs": [],
   "source": [
    "kmeans = KMeans(random_state=1234) # kmeans is the defined model"
   ]
  },
  {
   "cell_type": "markdown",
   "id": "687d0357",
   "metadata": {},
   "source": [
    "Create a function to fit  the K-Means clustering method using all the songs contained in the Spotify collected data set.\n",
    "\n",
    "fit the model to your data using kmeans.fit(X_scaled)"
   ]
  },
  {
   "cell_type": "code",
   "execution_count": null,
   "id": "8de501d2",
   "metadata": {},
   "outputs": [],
   "source": [
    "kmeans.fit(X_scaled_df) #Compute k-means clustering"
   ]
  },
  {
   "cell_type": "markdown",
   "id": "cebe2a4c",
   "metadata": {},
   "source": [
    "---- Do some research on the optimal K-value for the K-means"
   ]
  },
  {
   "cell_type": "code",
   "execution_count": null,
   "id": "aa1a5d7e",
   "metadata": {},
   "outputs": [],
   "source": [
    "len(kmeans.labels_) # number of labels / datapoints in total"
   ]
  },
  {
   "cell_type": "code",
   "execution_count": null,
   "id": "4995f9da",
   "metadata": {},
   "outputs": [],
   "source": [
    "# assign a cluster to each example\n",
    "labels = kmeans.predict(X_scaled_df)\n",
    "# retrieve unique clusters\n",
    "clusters = np.unique(labels)\n"
   ]
  },
  {
   "cell_type": "code",
   "execution_count": null,
   "id": "22faa26d",
   "metadata": {},
   "outputs": [],
   "source": [
    "# create scatter plot for samples from each cluster\n",
    "pyplot.figure(figsize=(40, 40))\n",
    "\n",
    "for cluster in clusters:\n",
    "    # get row indexes for samples with this cluster\n",
    "    row_ix = np.where(labels == cluster)\n",
    "    # create scatter of these samples\n",
    "    pyplot.scatter(X.to_numpy()[row_ix, 0], X.to_numpy()[row_ix, 1],s=20)\n",
    "    # show the plot\n",
    "    \n",
    "\n",
    "\n",
    "pyplot.show()"
   ]
  },
  {
   "cell_type": "markdown",
   "id": "190d3e04",
   "metadata": {},
   "source": [
    "Now we have our \"model\", let's get the clusters and how many observations has each cluster."
   ]
  },
  {
   "cell_type": "markdown",
   "id": "94795dd5",
   "metadata": {},
   "source": [
    "---- Save the final K-means model with pickle"
   ]
  },
  {
   "cell_type": "markdown",
   "id": "6adcbfb5",
   "metadata": {},
   "source": [
    "Add cluster-column to original dataframe"
   ]
  },
  {
   "cell_type": "code",
   "execution_count": null,
   "id": "f25b6d95",
   "metadata": {
    "scrolled": true
   },
   "outputs": [],
   "source": [
    "clusters = kmeans.predict(X_scaled_df)# predicts clusters of all songs in the database and saves them in array\n",
    "#clusters\n",
    "pd.Series(clusters).value_counts().sort_index()"
   ]
  },
  {
   "cell_type": "code",
   "execution_count": null,
   "id": "6fe2dc5d",
   "metadata": {},
   "outputs": [],
   "source": [
    "#X_df = pd.DataFrame(X)\n",
    "data[\"cluster\"] = clusters # add a column called 'cluster' in  original dataframe with cluster of each song\n",
    "data#.head()"
   ]
  },
  {
   "cell_type": "markdown",
   "id": "7ed91a42",
   "metadata": {},
   "source": [
    "Use the trained K-means model to predict the cluster of each song in the internal databases and add this information to the internal databases"
   ]
  },
  {
   "cell_type": "markdown",
   "id": "123b37e4",
   "metadata": {},
   "source": [
    "----- this process should only be done once, not every time a song is inputed! However, you are going to need the clustered dataframe X , the scaler, and the kmeans model to be loaded in your environment (i.e. notebook) when the user inputs a song. Tip: consider doing this through creating a module and loading it from another notebook."
   ]
  },
  {
   "cell_type": "code",
   "execution_count": null,
   "id": "f718e8b5",
   "metadata": {},
   "outputs": [],
   "source": [
    "#write to csv\n",
    "\n",
    "with open('data_clustered.csv', 'w') as f:\n",
    "        data.to_csv(f, header= True, index=False)"
   ]
  },
  {
   "cell_type": "code",
   "execution_count": null,
   "id": "e6f97604",
   "metadata": {},
   "outputs": [],
   "source": [
    "data[data['cluster'] == 1].sample() #returns a random row from cluster 1"
   ]
  },
  {
   "cell_type": "code",
   "execution_count": null,
   "id": "590c599e",
   "metadata": {},
   "outputs": [],
   "source": []
  }
 ],
 "metadata": {
  "kernelspec": {
   "display_name": "Python 3.9.6 64-bit ('DA_Env': conda)",
   "language": "python",
   "name": "python396jvsc74a57bd05375ea30ccc9b57c36ae3d23020393a61a95a7ea0b2850a1adf62c73c9af99e5"
  },
  "language_info": {
   "codemirror_mode": {
    "name": "ipython",
    "version": 3
   },
   "file_extension": ".py",
   "mimetype": "text/x-python",
   "name": "python",
   "nbconvert_exporter": "python",
   "pygments_lexer": "ipython3",
   "version": "3.9.6"
  }
 },
 "nbformat": 4,
 "nbformat_minor": 5
}
