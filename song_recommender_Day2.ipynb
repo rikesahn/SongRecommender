{
 "cells": [
  {
   "cell_type": "code",
   "execution_count": 1,
   "id": "0859e3a8",
   "metadata": {},
   "outputs": [],
   "source": []
  },
  {
   "cell_type": "code",
   "execution_count": 1,
   "id": "c48ed96f",
   "metadata": {},
   "outputs": [],
   "source": [
    "# 1. import libraries\n",
    "from bs4 import BeautifulSoup\n",
    "import requests\n",
    "import pandas as pd\n",
    "\n",
    "# 2. find url and store it in a variable\n",
    "url = \"https://www.billboard.com/charts/hot-100/\"\n",
    "\n",
    "# 3. download html with a get request\n",
    "response = requests.get(url)\n",
    "response.status_code # 200 status code means OK!\n",
    "\n",
    "# 4.1. parse html (create the 'soup')\n",
    "soup = BeautifulSoup(response.content, \"html.parser\")\n",
    "# 5. retrieve/extract the desired info\n",
    "#soup.select(\"#title-of-a-story\")[3].get_text()\n",
    "#soup.select(\".a-font-primary-s\")[2].get_text()\n",
    "#print(soup.select(\"#title-of-a-story\"))\n",
    "#print(soup.select(\"#title-of-a-story\")[3].get_text())\n",
    "\n",
    "#for p in soup.select(\"#title-of-a-story\")[3:103]:\n",
    "#    print(p.get_text())"
   ]
  },
  {
   "cell_type": "markdown",
   "id": "0f4439d1",
   "metadata": {},
   "source": [
    "## Building the dataframe"
   ]
  },
  {
   "cell_type": "code",
   "execution_count": 69,
   "id": "edf4f867",
   "metadata": {},
   "outputs": [],
   "source": [
    "#initialize empty lists\n",
    "title = []\n",
    "artist = []\n",
    "index = []\n",
    "\n",
    "# iterate through the result set and retrive all the data, strip newline characters\n",
    "for i in range(3,103):\n",
    "    title.append(soup.select(\"#title-of-a-story\")[i].get_text().strip())\n",
    "for i in range(2,102):\n",
    "    artist.append(soup.select(\".a-font-primary-s\")[i].get_text().strip())\n",
    "for i in range(0,100):\n",
    "    index.append(i+1)   "
   ]
  },
  {
   "cell_type": "code",
   "execution_count": 70,
   "id": "ed25ffc7",
   "metadata": {},
   "outputs": [],
   "source": [
    "#lower-case all artists & titles\n",
    "for i in range(0,100):\n",
    "    artist[i] = artist[i].lower()\n",
    "    title[i] = title[i].lower()"
   ]
  },
  {
   "cell_type": "code",
   "execution_count": 72,
   "id": "d2dd79f6",
   "metadata": {},
   "outputs": [],
   "source": [
    "# each list becomes a column\n",
    "top100 = pd.DataFrame({\"chart_position\":index,\n",
    "                       \"artist\":artist,\n",
    "                       \"title\":title\n",
    "                      })\n",
    "#top100 = top100.replace(r'\\n','', regex=True)"
   ]
  },
  {
   "cell_type": "code",
   "execution_count": 73,
   "id": "869cbcce",
   "metadata": {},
   "outputs": [
    {
     "data": {
      "text/html": [
       "<div>\n",
       "<style scoped>\n",
       "    .dataframe tbody tr th:only-of-type {\n",
       "        vertical-align: middle;\n",
       "    }\n",
       "\n",
       "    .dataframe tbody tr th {\n",
       "        vertical-align: top;\n",
       "    }\n",
       "\n",
       "    .dataframe thead th {\n",
       "        text-align: right;\n",
       "    }\n",
       "</style>\n",
       "<table border=\"1\" class=\"dataframe\">\n",
       "  <thead>\n",
       "    <tr style=\"text-align: right;\">\n",
       "      <th></th>\n",
       "      <th>chart_position</th>\n",
       "      <th>artist</th>\n",
       "      <th>title</th>\n",
       "    </tr>\n",
       "  </thead>\n",
       "  <tbody>\n",
       "    <tr>\n",
       "      <th>0</th>\n",
       "      <td>1</td>\n",
       "      <td>taylor swift</td>\n",
       "      <td>all too well (taylor's version)</td>\n",
       "    </tr>\n",
       "    <tr>\n",
       "      <th>1</th>\n",
       "      <td>2</td>\n",
       "      <td>adele</td>\n",
       "      <td>easy on me</td>\n",
       "    </tr>\n",
       "    <tr>\n",
       "      <th>2</th>\n",
       "      <td>3</td>\n",
       "      <td>the kid laroi &amp; justin bieber</td>\n",
       "      <td>stay</td>\n",
       "    </tr>\n",
       "    <tr>\n",
       "      <th>3</th>\n",
       "      <td>4</td>\n",
       "      <td>lil nas x &amp; jack harlow</td>\n",
       "      <td>industry baby</td>\n",
       "    </tr>\n",
       "    <tr>\n",
       "      <th>4</th>\n",
       "      <td>5</td>\n",
       "      <td>silk sonic (bruno mars &amp; anderson .paak)</td>\n",
       "      <td>smokin out the window</td>\n",
       "    </tr>\n",
       "    <tr>\n",
       "      <th>...</th>\n",
       "      <td>...</td>\n",
       "      <td>...</td>\n",
       "      <td>...</td>\n",
       "    </tr>\n",
       "    <tr>\n",
       "      <th>95</th>\n",
       "      <td>96</td>\n",
       "      <td>swedish house mafia &amp; the weeknd</td>\n",
       "      <td>moth to a flame</td>\n",
       "    </tr>\n",
       "    <tr>\n",
       "      <th>96</th>\n",
       "      <td>97</td>\n",
       "      <td>cody johnson</td>\n",
       "      <td>'til you can't</td>\n",
       "    </tr>\n",
       "    <tr>\n",
       "      <th>97</th>\n",
       "      <td>98</td>\n",
       "      <td>doja cat</td>\n",
       "      <td>woman</td>\n",
       "    </tr>\n",
       "    <tr>\n",
       "      <th>98</th>\n",
       "      <td>99</td>\n",
       "      <td>the weeknd</td>\n",
       "      <td>take my breath</td>\n",
       "    </tr>\n",
       "    <tr>\n",
       "      <th>99</th>\n",
       "      <td>100</td>\n",
       "      <td>giveon</td>\n",
       "      <td>for tonight</td>\n",
       "    </tr>\n",
       "  </tbody>\n",
       "</table>\n",
       "<p>100 rows × 3 columns</p>\n",
       "</div>"
      ],
      "text/plain": [
       "    chart_position                                    artist  \\\n",
       "0                1                              taylor swift   \n",
       "1                2                                     adele   \n",
       "2                3             the kid laroi & justin bieber   \n",
       "3                4                   lil nas x & jack harlow   \n",
       "4                5  silk sonic (bruno mars & anderson .paak)   \n",
       "..             ...                                       ...   \n",
       "95              96          swedish house mafia & the weeknd   \n",
       "96              97                              cody johnson   \n",
       "97              98                                  doja cat   \n",
       "98              99                                the weeknd   \n",
       "99             100                                    giveon   \n",
       "\n",
       "                              title  \n",
       "0   all too well (taylor's version)  \n",
       "1                        easy on me  \n",
       "2                              stay  \n",
       "3                     industry baby  \n",
       "4             smokin out the window  \n",
       "..                              ...  \n",
       "95                  moth to a flame  \n",
       "96                   'til you can't  \n",
       "97                            woman  \n",
       "98                   take my breath  \n",
       "99                      for tonight  \n",
       "\n",
       "[100 rows x 3 columns]"
      ]
     },
     "execution_count": 73,
     "metadata": {},
     "output_type": "execute_result"
    }
   ],
   "source": [
    "top100"
   ]
  },
  {
   "cell_type": "code",
   "execution_count": 90,
   "id": "dc5c7ebb",
   "metadata": {},
   "outputs": [
    {
     "name": "stdout",
     "output_type": "stream",
     "text": [
      "Enter a song title:\n",
      "woman\n",
      "You entered the song title \"woman\". The song is in the hot list, we recommend you also listen to the following:\n",
      "who want smoke?? by nardo wick featuring g herbo, lil durk & 21 savage\n"
     ]
    }
   ],
   "source": [
    "#user inputs a song title\n",
    "import random\n",
    "def title_input():\n",
    "    print('Enter a song title:')\n",
    "    x = input().lower()\n",
    "    #if song title is hot (=in dataframe): recommend another song from dataframe(randomly chosen)\n",
    "    if x in top100['title'].unique(): \n",
    "        num = random.randint(1, 100)\n",
    "        print('You entered the song title \"' + x + '\". The song is in the hot list, we recommend you also listen to the following:\\n' + ((top100['title'][num]) + ' by ' + (top100['artist'][num])))   \n",
    "    else: \n",
    "        #if song is not in top 100: return \"Unfortunately, the song is not in the hot list!\"\n",
    "        print('You entered the song title \"' + x + '\". Unfortunately, the song is not in the hot list!')\n",
    "\n",
    "title_input()"
   ]
  },
  {
   "cell_type": "code",
   "execution_count": 94,
   "id": "73152e41",
   "metadata": {},
   "outputs": [
    {
     "data": {
      "text/plain": [
       "0                                 taylor swift\n",
       "1                                        adele\n",
       "2                the kid laroi & justin bieber\n",
       "3                      lil nas x & jack harlow\n",
       "4     silk sonic (bruno mars & anderson .paak)\n",
       "                        ...                   \n",
       "95            swedish house mafia & the weeknd\n",
       "96                                cody johnson\n",
       "97                                    doja cat\n",
       "98                                  the weeknd\n",
       "99                                      giveon\n",
       "Name: artist, Length: 100, dtype: object"
      ]
     },
     "execution_count": 94,
     "metadata": {},
     "output_type": "execute_result"
    }
   ],
   "source": [
    "\"Adele\" in top100.values #true\n",
    "\"Adele\" in top100['artist'].unique() #true\n",
    "\"Adele\" in top100['artist'] #false, why???"
   ]
  },
  {
   "cell_type": "code",
   "execution_count": 27,
   "id": "72186b3b",
   "metadata": {},
   "outputs": [],
   "source": [
    "#write to csv\n",
    "\n",
    "with open('top100.csv', 'w') as f:\n",
    "        top100.to_csv(f, header= True, index=False)"
   ]
  },
  {
   "cell_type": "code",
   "execution_count": null,
   "id": "90871fb7",
   "metadata": {},
   "outputs": [],
   "source": []
  },
  {
   "cell_type": "code",
   "execution_count": null,
   "id": "f8ffd8fd",
   "metadata": {},
   "outputs": [],
   "source": []
  },
  {
   "cell_type": "code",
   "execution_count": null,
   "id": "569a1887",
   "metadata": {},
   "outputs": [],
   "source": []
  }
 ],
 "metadata": {
  "interpreter": {
   "hash": "5375ea30ccc9b57c36ae3d23020393a61a95a7ea0b2850a1adf62c73c9af99e5"
  },
  "kernelspec": {
   "display_name": "Python 3.9.6 64-bit ('DA_Env': conda)",
   "language": "python",
   "name": "python396jvsc74a57bd05375ea30ccc9b57c36ae3d23020393a61a95a7ea0b2850a1adf62c73c9af99e5"
  },
  "language_info": {
   "codemirror_mode": {
    "name": "ipython",
    "version": 3
   },
   "file_extension": ".py",
   "mimetype": "text/x-python",
   "name": "python",
   "nbconvert_exporter": "python",
   "pygments_lexer": "ipython3",
   "version": "3.9.6"
  }
 },
 "nbformat": 4,
 "nbformat_minor": 5
}
